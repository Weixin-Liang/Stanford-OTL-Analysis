{
 "cells": [
  {
   "cell_type": "markdown",
   "metadata": {},
   "source": [
    "# Inventor demographics analysis: Increasing Team Size\n",
    "\n"
   ]
  },
  {
   "cell_type": "code",
   "execution_count": null,
   "metadata": {},
   "outputs": [],
   "source": [
    "import pandas as pd\n",
    "import os\n",
    "import re\n",
    "import numpy as np\n",
    "import pandas as pd\n",
    "import pickle\n",
    "from collections import Counter, defaultdict\n",
    "import math\n",
    "import seaborn as sns\n",
    "import matplotlib.pyplot as plt\n",
    "from main_analyze import label_vocab\n",
    "from main_analyze import get_main_data\n",
    "df_all = get_main_data(assign_net_income_rank_flag=True)\n",
    "df_all= df_all[df_all['InvNameList_len'] > 0]"
   ]
  },
  {
   "cell_type": "code",
   "execution_count": null,
   "metadata": {},
   "outputs": [],
   "source": [
    "year_stratify_scheme = [\n",
    "    (1980, 2000),\n",
    "    (2000, 2005),\n",
    "    (2005, 2010),\n",
    "    (2010, 2015),\n",
    "    (2015, 2020),\n",
    "]\n",
    "\n",
    "analysis_label_vocab = label_vocab[:6]\n",
    "\n",
    "def get_avg_author_len_given_category(df_slice, category_str):\n",
    "    # get the avg of income_rank for each category\n",
    "    df_category = df_slice.query(\" `{}`==True \".format(category_str) )\n",
    "    avg_net_income = df_category['InvNameList_len'].mean()\n",
    "    count = len(df_category)\n",
    "    return avg_net_income, count\n",
    "\n",
    "for year_start, year_end in year_stratify_scheme:\n",
    "    df_year = df_all.query(\" `Disclosure Date`>='{}-01-01'  and `Disclosure Date`<'{}-01-01' \".format(year_start, year_end))\n",
    "\n",
    "    print(year_start, '-', year_end, 'Number of dockets', len(df_year)  )\n",
    "\n",
    "    category_avg_income_array = []\n",
    "    category_count_array = []\n",
    "    for category_str in analysis_label_vocab:\n",
    "        avg_net_income, category_count = get_avg_author_len_given_category(df_year, category_str)\n",
    "        category_avg_income_array.append(avg_net_income)\n",
    "        category_count_array.append(category_count)\n",
    "\n",
    "    label_vocab_ranked_idx = range(len(category_avg_income_array))\n",
    "    for i in range(len(analysis_label_vocab)):\n",
    "        idx = label_vocab_ranked_idx[i]\n",
    "        print(analysis_label_vocab[idx], '\\t', 'Avg Author Count: {:.2f} category_count: {}'.format(category_avg_income_array[idx], category_count_array[idx])  )\n",
    "\n",
    "    print()\n",
    "    \n",
    "\n",
    "\n"
   ]
  },
  {
   "cell_type": "code",
   "execution_count": null,
   "metadata": {},
   "outputs": [],
   "source": [
    "import statsmodels.api as sm\n",
    "df_query = df_all\n",
    "from main_analyze import label_vocab\n",
    "interested_label_vocab = label_vocab[:6] \n",
    "X = df_query[['year'] + interested_label_vocab] \n",
    "Y = df_query['InvNameList_len'] \n",
    "X = sm.add_constant(X) \n",
    "model = sm.OLS(Y, X.astype(float)).fit()\n",
    "print_model = model.summary()\n",
    "print(print_model)\n",
    "print('p-values:', model.pvalues)\n",
    "\n",
    "\n",
    "\n"
   ]
  }
 ],
 "metadata": {
  "interpreter": {
   "hash": "67602bcda1a2979e98e24a2c7b4e81c48fa406727758eae6f9b97279c00e3467"
  },
  "kernelspec": {
   "display_name": "Python 3.6.13 64-bit ('pytorch_p36': conda)",
   "name": "python3"
  },
  "language_info": {
   "codemirror_mode": {
    "name": "ipython",
    "version": 3
   },
   "file_extension": ".py",
   "mimetype": "text/x-python",
   "name": "python",
   "nbconvert_exporter": "python",
   "pygments_lexer": "ipython3",
   "version": "3.6.13"
  },
  "orig_nbformat": 4
 },
 "nbformat": 4,
 "nbformat_minor": 2
}
