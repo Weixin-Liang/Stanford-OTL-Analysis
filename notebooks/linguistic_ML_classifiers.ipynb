{
 "cells": [
  {
   "cell_type": "markdown",
   "metadata": {},
   "source": [
    "# Linguistic Analysis: Machine learning classifiers"
   ]
  },
  {
   "cell_type": "code",
   "execution_count": null,
   "metadata": {},
   "outputs": [],
   "source": [
    "import pandas as pd\n",
    "import os\n",
    "import re\n",
    "import numpy as np\n",
    "import pandas as pd\n",
    "import pickle\n",
    "from collections import Counter, defaultdict\n",
    "import math\n",
    "import json\n",
    "%matplotlib inline\n",
    "import matplotlib.pyplot as plt\n",
    "import seaborn as sns\n",
    "from main_analyze import label_vocab\n",
    "from main_analyze import get_main_data\n",
    "df_all = get_main_data(assign_net_income_rank_flag=True)\n",
    "df_all = df_all.query(\" year<=2010 \") \n",
    "df_all = df_all.dropna(subset=['abstract_Marketing']).copy()\n",
    "from main_analyze import label_vocab\n",
    "interested_label_vocab = label_vocab[:6] "
   ]
  },
  {
   "cell_type": "code",
   "execution_count": null,
   "metadata": {},
   "outputs": [],
   "source": [
    "from sklearn.model_selection import train_test_split\n",
    "X, Y = [], []\n",
    "for idx, row in df_all.iterrows():\n",
    "    text = row['abstract_Marketing']\n",
    "    text = text.replace('-', ' ') \n",
    "    text = text.replace('_x000d_', ' ') \n",
    "    y = 1 if row['income_rank'] > 0.5 else 0\n",
    "    X.append(text)\n",
    "    Y.append(y)\n",
    "X_train, X_test, Y_train, Y_test = train_test_split(X, Y, test_size=.2, random_state=1234)"
   ]
  },
  {
   "cell_type": "code",
   "execution_count": null,
   "metadata": {},
   "outputs": [],
   "source": [
    "from sklearn.pipeline import Pipeline\n",
    "from sklearn.feature_extraction.text import CountVectorizer\n",
    "from sklearn.feature_extraction.text import TfidfTransformer\n",
    "from sklearn.linear_model import LogisticRegression\n",
    "text_clf = Pipeline([\n",
    "    ('vect', CountVectorizer()),\n",
    "    ('tfidf', TfidfTransformer()),\n",
    "    ('clf', LogisticRegression(random_state=42)),\n",
    "    ])\n",
    "text_clf.fit(X_train, Y_train)\n",
    "from sklearn.metrics import roc_auc_score\n",
    "from sklearn.metrics import accuracy_score\n",
    "from sklearn.metrics import roc_curve\n",
    "print(\n",
    "    'accuracy_score',\n",
    "    accuracy_score(Y_test, text_clf.predict(X_test))\n",
    ")\n",
    "auc = roc_auc_score(Y_test, text_clf.predict_proba(X_test)[:, 1])\n",
    "print(\n",
    "    'roc_auc_score',\n",
    "    auc, \n",
    "    )\n",
    "fpr, tpr, thresholds = roc_curve(Y_test, text_clf.predict_proba(X_test)[:, 1])\n",
    "auc_tfidf = auc\n",
    "fpr_tfidf, tpr_tfidf = fpr, tpr"
   ]
  },
  {
   "cell_type": "code",
   "execution_count": null,
   "metadata": {},
   "outputs": [],
   "source": [
    "import seaborn as sns\n",
    "plt.rcParams['figure.dpi'] = 300\n",
    "plt.rcParams['savefig.dpi'] = 300\n",
    "sns.set(font_scale=1.4)  \n",
    "X, Y = [], []\n",
    "for idx, row in df_all.iterrows():\n",
    "    category_labels = []\n",
    "    for category_str in interested_label_vocab:\n",
    "        category_labels.append(row[category_str])\n",
    "    y = 1 if row['income_rank'] > 0.5 else 0\n",
    "    X.append(category_labels)\n",
    "    Y.append(y)\n",
    "print('X', len(X), 'Y', len(Y), 'sum Y', sum(Y) )\n",
    "X_train, X_test, Y_train, Y_test = train_test_split(X, Y, test_size=.2, random_state=1234)\n",
    "\n",
    "from sklearn.pipeline import Pipeline\n",
    "from sklearn.feature_extraction.text import CountVectorizer\n",
    "from sklearn.feature_extraction.text import TfidfTransformer\n",
    "from sklearn.linear_model import LogisticRegression\n",
    "text_clf = Pipeline([\n",
    "    ('clf', LogisticRegression(random_state=42)),\n",
    "    ])\n",
    "text_clf.fit(X_train, Y_train)\n",
    "\n",
    "from sklearn.metrics import roc_auc_score\n",
    "from sklearn.metrics import accuracy_score\n",
    "from sklearn.metrics import roc_curve\n",
    "print(\n",
    "    'accuracy_score',\n",
    "    accuracy_score(Y_test, text_clf.predict(X_test))\n",
    ")\n",
    "auc = roc_auc_score(Y_test, text_clf.predict_proba(X_test)[:, 1])\n",
    "print(\n",
    "    'roc_auc_score',\n",
    "    auc\n",
    "    )\n",
    "fpr, tpr, thresholds = roc_curve(Y_test, text_clf.predict_proba(X_test)[:, 1])\n",
    "\n",
    "\n",
    "\n",
    "plt.plot(fpr_BERT, tpr_BERT, label='%s ROC (area = %0.2f)' % ('BERT model', auc_BERT))\n",
    "plt.plot(fpr_tfidf, tpr_tfidf, label='%s ROC (area = %0.2f)' % ('TF-IDF model', auc_tfidf))\n",
    "plt.plot(fpr, tpr, label='%s ROC (area = %0.2f)' % ('category baseline', auc))\n",
    "plt.plot([0, 1], [0, 1],'r--')\n",
    "plt.xlim([0.0, 1.0])\n",
    "plt.ylim([0.0, 1.05])\n",
    "plt.xlabel('False Positive Rate')\n",
    "plt.ylabel('True Positive Rate')\n",
    "plt.legend(loc=\"lower right\")\n",
    "plt.savefig('notebook_plots/text_analysis_auc.jpg', dpi=300)\n",
    "plt.show()\n"
   ]
  }
 ],
 "metadata": {
  "interpreter": {
   "hash": "53a714998b4cda886d88c1f35ca09ebc6db63d3c7248d837ab3cd117369573cd"
  },
  "kernelspec": {
   "display_name": "Python 3.6.13 64-bit ('pytorch_p36': conda)",
   "name": "python3"
  },
  "language_info": {
   "codemirror_mode": {
    "name": "ipython",
    "version": 3
   },
   "file_extension": ".py",
   "mimetype": "text/x-python",
   "name": "python",
   "nbconvert_exporter": "python",
   "pygments_lexer": "ipython3",
   "version": "3.6.13"
  },
  "orig_nbformat": 4
 },
 "nbformat": 4,
 "nbformat_minor": 2
}
