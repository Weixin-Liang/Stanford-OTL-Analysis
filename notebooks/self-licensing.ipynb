{
 "cells": [
  {
   "cell_type": "markdown",
   "metadata": {},
   "source": [
    "## Self-Licensing"
   ]
  },
  {
   "cell_type": "code",
   "execution_count": null,
   "metadata": {},
   "outputs": [],
   "source": [
    "import pandas as pd\n",
    "import os\n",
    "import re\n",
    "import numpy as np\n",
    "import pandas as pd\n",
    "import pickle\n",
    "from collections import Counter, defaultdict\n",
    "import math\n",
    "import json\n",
    "from tqdm import tqdm\n",
    "%matplotlib inline\n",
    "import matplotlib.pyplot as plt\n",
    "import seaborn as sns\n",
    "from main_analyze import get_main_data\n",
    "from statsmodels.stats import weightstats as stests\n",
    "df_all = get_main_data(assign_net_income_rank_flag=True)"
   ]
  },
  {
   "cell_type": "code",
   "execution_count": null,
   "metadata": {},
   "outputs": [],
   "source": [
    "import seaborn as sns \n",
    "sns.set(font_scale=1.4) \n",
    "plt.rcParams['figure.dpi'] = 300\n",
    "plt.rcParams['savefig.dpi'] = 300\n",
    "g = sns.catplot(data=df_all.query('year>=1990') , kind=\"bar\", x=\"year\", y=\"self-licensed\", ci=None, color='royalblue')\n",
    "g.set_xticklabels(rotation=90)\n",
    "g.set(ylabel=\"Fraction Licensed by Inventor Startups\")\n",
    "for ax in g.axes.flat:\n",
    "    for ind, label in enumerate(ax.get_xticklabels()):\n",
    "        if ind % 2 == 0:  \n",
    "            label.set_visible(True)\n",
    "        else:\n",
    "            label.set_visible(False)"
   ]
  },
  {
   "cell_type": "code",
   "execution_count": null,
   "metadata": {},
   "outputs": [],
   "source": [
    "import statsmodels.api as sm\n",
    "from main_analyze import label_vocab\n",
    "interested_label_vocab = label_vocab[:6] \n",
    "func_name = 'self-licensed'\n",
    "X = df_all[['year'] + interested_label_vocab] \n",
    "Y = df_all[func_name] \n",
    "X = sm.add_constant(X) \n",
    "model = sm.OLS(Y, X.astype(float)).fit()\n",
    "predictions = model.predict(X) \n",
    "print_model = model.summary()\n",
    "print(print_model)\n",
    "print('p-values:', model.pvalues)"
   ]
  },
  {
   "cell_type": "code",
   "execution_count": null,
   "metadata": {},
   "outputs": [],
   "source": [
    "net_income_range_str_list = list()\n",
    "self_licensed_rate_list = list()\n",
    "label_query_scheme = [\n",
    "    [r'<\\$10K',         '`Net Income`<1e4', ],\n",
    "    [r'\\$10K-\\$100K',   '`Net Income`>=1e4 and `Net Income`<=1e5',],\n",
    "    [r'\\$100K-\\$1M',    '`Net Income`>=1e5 and `Net Income`<=1e6',],\n",
    "    [r'\\$1M-\\$10M',     '`Net Income`>=1e6 and `Net Income`<=1e7',],\n",
    "    [r'≥\\$10M',        '`Net Income`>=1e7 ',],\n",
    "]\n",
    "for label_str, query_str in label_query_scheme:\n",
    "    df_range = df_all.query( query_str )\n",
    "    self_licensed_rate = df_range['self-licensed'].mean()\n",
    "    range_str = label_str\n",
    "    net_income_range_str_list.append(range_str)\n",
    "    self_licensed_rate_list.append(self_licensed_rate)\n",
    "    print(range_str, self_licensed_rate, 'Sample size:', len(df_range))\n",
    "df_tmp = {\n",
    "    'net income': net_income_range_str_list, \n",
    "    'self-licensing rate': self_licensed_rate_list,\n",
    "}\n",
    "import seaborn as sns \n",
    "sns.set() \n",
    "plt.rcParams['figure.dpi'] = 300\n",
    "plt.rcParams['savefig.dpi'] = 300\n",
    "g = sns.barplot(x=net_income_range_str_list, y=self_licensed_rate_list)\n",
    "g.set(xlabel='Net income (USD)', ylabel=\"Fraction Licensed by Inventor Startups\")"
   ]
  },
  {
   "cell_type": "code",
   "execution_count": null,
   "metadata": {},
   "outputs": [],
   "source": [
    "import statsmodels.api as sm\n",
    "from main_analyze import label_vocab\n",
    "interested_label_vocab = label_vocab[:6] \n",
    "X = df_all[['year', 'self-licensed'] + interested_label_vocab] \n",
    "Y = df_all['income_rank'] \n",
    "X = sm.add_constant(X) \n",
    "model = sm.OLS(Y, X.astype(float)).fit()\n",
    "predictions = model.predict(X) \n",
    "print_model = model.summary()\n",
    "print(print_model)\n",
    "print('p-values:', model.pvalues)"
   ]
  }
 ],
 "metadata": {
  "interpreter": {
   "hash": "53a714998b4cda886d88c1f35ca09ebc6db63d3c7248d837ab3cd117369573cd"
  },
  "kernelspec": {
   "display_name": "Python 3.6.13 64-bit ('pytorch_p36': conda)",
   "name": "python3"
  },
  "language_info": {
   "codemirror_mode": {
    "name": "ipython",
    "version": 3
   },
   "file_extension": ".py",
   "mimetype": "text/x-python",
   "name": "python",
   "nbconvert_exporter": "python",
   "pygments_lexer": "ipython3",
   "version": "3.6.13"
  },
  "orig_nbformat": 4
 },
 "nbformat": 4,
 "nbformat_minor": 2
}
