{
 "cells": [
  {
   "cell_type": "markdown",
   "metadata": {},
   "source": [
    "# Inventor demographics analysis: First-time Inventors "
   ]
  },
  {
   "cell_type": "code",
   "execution_count": null,
   "metadata": {},
   "outputs": [],
   "source": [
    "import pandas as pd\n",
    "import os\n",
    "import re\n",
    "import numpy as np\n",
    "import pandas as pd\n",
    "import pickle\n",
    "from collections import Counter, defaultdict\n",
    "import math\n",
    "import seaborn as sns\n",
    "import matplotlib.pyplot as plt\n",
    "from main_analyze import label_vocab\n",
    "from main_analyze import get_main_data\n",
    "df_all = get_main_data(assign_net_income_rank_flag=True)\n",
    "df_all= df_all[df_all['InvNameList_len'] > 0]\n",
    "df_all = df_all.sort_values(by=['Disclosure Date'])"
   ]
  },
  {
   "cell_type": "code",
   "execution_count": null,
   "metadata": {},
   "outputs": [],
   "source": [
    "from main_analyze import parse_InvNameList\n",
    "non_first_time_author = set()\n",
    "first_time_flag_list = list() \n",
    "for idx, row in df_all.iterrows():\n",
    "    if not isinstance(row['InvNameList'], str):\n",
    "        inventors_name_list = []\n",
    "    else:\n",
    "        inventors_name_list = parse_InvNameList(row['InvNameList'])\n",
    "    first_time_team = True\n",
    "    for inventors_name in inventors_name_list:\n",
    "        if inventors_name in non_first_time_author:\n",
    "            first_time_team = False \n",
    "        non_first_time_author.add(inventors_name)\n",
    "    first_time_flag_list.append(first_time_team)\n",
    "df_all['first_time_team'] = first_time_flag_list\n",
    "df_all['first_time_team'].sum()"
   ]
  },
  {
   "cell_type": "code",
   "execution_count": null,
   "metadata": {},
   "outputs": [],
   "source": [
    "import statsmodels.api as sm\n",
    "df_query = df_all\n",
    "from main_analyze import label_vocab\n",
    "interested_label_vocab = label_vocab[:6] \n",
    "X = df_query[['year', 'first_time_team'] + interested_label_vocab]  # \n",
    "Y = df_query['income_rank'] \n",
    "X = sm.add_constant(X) \n",
    "model = sm.OLS(Y, X.astype(float)).fit()\n",
    "print_model = model.summary()\n",
    "print(print_model)\n",
    "print('p-values:', model.pvalues)\n",
    "\n",
    "\n",
    "\n"
   ]
  }
 ],
 "metadata": {
  "interpreter": {
   "hash": "53a714998b4cda886d88c1f35ca09ebc6db63d3c7248d837ab3cd117369573cd"
  },
  "kernelspec": {
   "display_name": "Python 3.6.13 64-bit ('pytorch_p36': conda)",
   "name": "python3"
  },
  "language_info": {
   "codemirror_mode": {
    "name": "ipython",
    "version": 3
   },
   "file_extension": ".py",
   "mimetype": "text/x-python",
   "name": "python",
   "nbconvert_exporter": "python",
   "pygments_lexer": "ipython3",
   "version": "3.6.13"
  },
  "orig_nbformat": 4
 },
 "nbformat": 4,
 "nbformat_minor": 2
}
