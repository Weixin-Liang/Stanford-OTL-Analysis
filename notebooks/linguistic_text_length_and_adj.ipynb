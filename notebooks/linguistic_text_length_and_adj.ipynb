{
 "cells": [
  {
   "cell_type": "markdown",
   "metadata": {},
   "source": [
    "# Linguistic Analysis: Text Length, ADJ Percentage"
   ]
  },
  {
   "cell_type": "code",
   "execution_count": null,
   "metadata": {},
   "outputs": [],
   "source": [
    "from tqdm import tqdm\n",
    "import pandas as pd\n",
    "import matplotlib.pyplot as plt\n",
    "import os\n",
    "import re\n",
    "import numpy as np\n",
    "import pandas as pd\n",
    "import pickle\n",
    "from statsmodels.stats import weightstats as stests\n",
    "from collections import Counter, defaultdict\n",
    "import networkx as nx \n",
    "from sklearn import metrics\n",
    "import statsmodels.api as sm\n",
    "from main_analyze import parse_InvNameList, assign_income_rank\n",
    "from interdisciplinary import compare_x1_x2"
   ]
  },
  {
   "cell_type": "code",
   "execution_count": null,
   "metadata": {},
   "outputs": [],
   "source": [
    "import seaborn as sns \n",
    "plt.rcParams['figure.dpi'] = 300\n",
    "plt.rcParams['savefig.dpi'] = 300\n",
    "sns.set(font_scale=1.4)  \n",
    "df_abstract = pd.read_pickle(\"notebook_plots/linguistic_spacy_{}.pkl\".format('abstract'))\n",
    "df_abstract_Marketing = pd.read_pickle(\"notebook_plots/linguistic_spacy_{}.pkl\".format('abstract_Marketing'))\n",
    "author_abstract_len, marketing_abstract_len, year_str_list = [], [], []\n",
    "year_stratify_scheme = [\n",
    "    (1980, 1990),\n",
    "    (1990, 2000),\n",
    "    (2000, 2005),\n",
    "    (2005, 2010),\n",
    "    (2010, 2015),\n",
    "    (2015, 2020),\n",
    "]\n",
    "for year_start, year_end in year_stratify_scheme:\n",
    "    author_abstract_len.append(\n",
    "        df_abstract.query(\" `Disclosure Date`>='{}-01-01'  and `Disclosure Date`<'{}-01-01' \".format(year_start, year_end))['Title_len'].mean()\n",
    "    )\n",
    "    marketing_abstract_len.append(\n",
    "        df_abstract_Marketing.query(\" `Disclosure Date`>='{}-01-01'  and `Disclosure Date`<'{}-01-01' \".format(year_start, year_end))['Title_len'].mean()\n",
    "    )\n",
    "    year_str_list.append( str(year_start) + '-' + str(year_end) )\n",
    "df_tmp = {\n",
    "    'year': year_str_list,\n",
    "    'author abstract': author_abstract_len, \n",
    "    'marketing abstract' : marketing_abstract_len,\n",
    "}\n",
    "df_tmp = pd.DataFrame(df_tmp)\n",
    "print('df_tmp', df_tmp)\n",
    "df_tmp = pd.melt(df_tmp, id_vars=\"year\", var_name=\"\", value_name=\"Length: word count\")\n",
    "sns.catplot(data=df_tmp, x=\"year\", y=\"Length: word count\", hue=\"\", kind='bar', legend_out=False)\n",
    "_ = plt.xticks(rotation=30)\n",
    "print('Longer Text over time -- both abstracts')"
   ]
  },
  {
   "cell_type": "code",
   "execution_count": null,
   "metadata": {},
   "outputs": [],
   "source": [
    "import seaborn as sns \n",
    "plt.rcParams['figure.dpi'] = 300\n",
    "plt.rcParams['savefig.dpi'] = 300\n",
    "sns.set(font_scale=1.4)  \n",
    "df_title= pd.read_pickle(\"notebook_plots/linguistic_spacy_{}.pkl\".format('Title'))\n",
    "title_adj_percentage_array = []\n",
    "year_str_list = []\n",
    "year_stratify_scheme = [\n",
    "    (1980, 1990),\n",
    "    (1990, 2000),\n",
    "    (2000, 2005),\n",
    "    (2005, 2010),\n",
    "    (2010, 2015),\n",
    "    (2015, 2020),\n",
    "]\n",
    "for year_start, year_end in year_stratify_scheme:\n",
    "    title_adj_percentage_array.append(\n",
    "        df_title.query(\" `Disclosure Date`>='{}-01-01'  and `Disclosure Date`<'{}-01-01' \".format(year_start, year_end))['ADJ_percentage'].mean()\n",
    "    )\n",
    "    year_str_list.append( str(year_start) + '-' + str(year_end) )\n",
    "df_tmp = {\n",
    "    'year': year_str_list,\n",
    "    'title': title_adj_percentage_array, \n",
    "}\n",
    "df_tmp = pd.DataFrame(df_tmp)\n",
    "print('df_tmp\\n', df_tmp)\n",
    "df_tmp = pd.melt(df_tmp, id_vars=\"year\", var_name=\"\", value_name=\"Fraction of adjectives\")\n",
    "sns.catplot(data=df_tmp, x=\"year\", y=\"Fraction of adjectives\", hue=\"\", kind='bar', legend_out=False)\n",
    "_ = plt.xticks(rotation=30)\n",
    "print('Longer Text over time -- both abstracts')"
   ]
  },
  {
   "cell_type": "code",
   "execution_count": null,
   "metadata": {},
   "outputs": [],
   "source": [
    "# FIELD = 'Title'\n",
    "# FIELD = 'abstract_Marketing'\n",
    "FIELD = 'abstract' \n",
    "# cached_var_name = 'Title_len' \n",
    "cached_var_name = 'ADJ_percentage' \n",
    "cache_df_path = \"notebook_plots/linguistic_spacy_{}.pkl\".format(FIELD)\n",
    "df_all = pd.read_pickle(cache_df_path)\n",
    "print('File loaded from ' + cache_df_path)\n",
    "from main_analyze import label_vocab\n",
    "interested_label_vocab = label_vocab[:6] \n",
    "X = df_all[['year'] + interested_label_vocab] \n",
    "Y = df_all[cached_var_name] \n",
    "X = sm.add_constant(X) \n",
    "model = sm.OLS(Y, X.astype(float)).fit()\n",
    "predictions = model.predict(X) \n",
    "print_model = model.summary()\n",
    "print(print_model)\n",
    "print('p-values:', model.pvalues)"
   ]
  },
  {
   "cell_type": "markdown",
   "metadata": {},
   "source": [
    "## Relationship with net income "
   ]
  },
  {
   "cell_type": "code",
   "execution_count": null,
   "metadata": {},
   "outputs": [],
   "source": [
    "# FIELD = 'Title'\n",
    "FIELD = 'abstract_Marketing'\n",
    "# FIELD = 'abstract' \n",
    "cache_df_path = \"notebook_plots/linguistic_spacy_{}.pkl\".format(FIELD)\n",
    "df_all = pd.read_pickle(cache_df_path)\n",
    "print('File loaded from ' + cache_df_path)\n",
    "from main_analyze import label_vocab\n",
    "interested_label_vocab = label_vocab[:6] \n",
    "X = df_all[['year', 'ADJ_percentage', 'Title_len'] + interested_label_vocab] \n",
    "Y = df_all['income_rank'] \n",
    "X = sm.add_constant(X) \n",
    "model = sm.OLS(Y, X.astype(float)).fit()\n",
    "predictions = model.predict(X) \n",
    "print_model = model.summary()\n",
    "print(print_model)\n",
    "print('p-values:', model.pvalues)\n"
   ]
  }
 ],
 "metadata": {
  "interpreter": {
   "hash": "53a714998b4cda886d88c1f35ca09ebc6db63d3c7248d837ab3cd117369573cd"
  },
  "kernelspec": {
   "display_name": "Python 3.6.13 64-bit ('pytorch_p36': conda)",
   "name": "python3"
  },
  "language_info": {
   "codemirror_mode": {
    "name": "ipython",
    "version": 3
   },
   "file_extension": ".py",
   "mimetype": "text/x-python",
   "name": "python",
   "nbconvert_exporter": "python",
   "pygments_lexer": "ipython3",
   "version": "3.6.13"
  },
  "orig_nbformat": 4
 },
 "nbformat": 4,
 "nbformat_minor": 2
}
