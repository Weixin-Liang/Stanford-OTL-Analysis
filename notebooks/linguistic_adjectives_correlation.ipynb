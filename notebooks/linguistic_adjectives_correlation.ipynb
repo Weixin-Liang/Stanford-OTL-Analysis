{
 "cells": [
  {
   "cell_type": "markdown",
   "metadata": {},
   "source": [
    "# Linguistic Analysis: Adjectives Correlation"
   ]
  },
  {
   "cell_type": "code",
   "execution_count": null,
   "metadata": {},
   "outputs": [],
   "source": [
    "import pandas as pd\n",
    "import os\n",
    "import re\n",
    "import numpy as np\n",
    "import pandas as pd\n",
    "import pickle\n",
    "from collections import Counter, defaultdict\n",
    "import math\n",
    "import json\n",
    "%matplotlib inline\n",
    "import matplotlib.pyplot as plt\n",
    "import seaborn as sns\n",
    "from main_analyze import label_vocab\n",
    "from main_analyze import get_main_data\n",
    "df_all = get_main_data(assign_net_income_rank_flag=True)\n",
    "df_all = df_all.query(\" year<=2010 \") \n",
    "df_all = df_all.dropna(subset=['abstract_Marketing']).copy()\n",
    "from main_analyze import label_vocab\n",
    "interested_label_vocab = label_vocab[:6] "
   ]
  },
  {
   "cell_type": "code",
   "execution_count": null,
   "metadata": {},
   "outputs": [],
   "source": [
    "from statsmodels.stats import weightstats as stests\n",
    "import statsmodels.api as sm\n",
    "year_stratify_scheme = [\n",
    "    (1980, 2020), \n",
    "]\n",
    "resutls_counter = Counter()\n",
    "word_to_freq = dict()\n",
    "word_to_coef = dict()\n",
    "for year_start, year_end in year_stratify_scheme:\n",
    "    df_year = df_all.query(\" `Disclosure Date`>='{}-01-01'  and `Disclosure Date`<'{}-01-01' \".format(year_start, year_end))\n",
    "    print(year_start, '-', year_end, 'Number of dockets', len(df_year)  )\n",
    "    for adj_rank, word in enumerate(adj_counter): \n",
    "        occurrence_array = df_year['abstract_Marketing'].str.contains(' ' + word)\n",
    "        if occurrence_array.sum() < 10:\n",
    "            resutls_counter['Too Few'] += 1\n",
    "            continue\n",
    "        df_tmp = df_year.copy()\n",
    "        df_tmp['word_occur'] = occurrence_array\n",
    "        X = df_tmp[['year', 'word_occur'] + interested_label_vocab] \n",
    "        Y = df_tmp['income_rank'] \n",
    "        X = sm.add_constant(X) \n",
    "        model = sm.OLS(Y, X.astype(float)).fit()\n",
    "        pvalue  = model.pvalues['word_occur'] \n",
    "        coef    = model.params['word_occur'] \n",
    "        x1 = df_year[occurrence_array]['income_rank']\n",
    "        x2 = df_year[~occurrence_array]['income_rank']\n",
    "\n",
    "        if pvalue < 0.05:\n",
    "            print('{}'.format(adj_rank), end=' ')\n",
    "            if x1.mean() < x2.mean(): \n",
    "                print('[hurts]', end=' ')\n",
    "                resutls_counter['Hurts'] += 1\n",
    "            else:\n",
    "                print('       ', end=' ')\n",
    "                resutls_counter['Helps'] += 1\n",
    "            print(word, '\\t p-value {:.2e} coef: {:.2e} contain {:.2f}; not contain {:.2f} '.format(pvalue, coef, x1.mean(), x2.mean(), ), 'occurrence', occurrence_array.sum() )\n",
    "\n",
    "            word_to_freq[word] = np.log(occurrence_array.sum())\n",
    "            word_to_coef[word] = coef\n",
    "\n",
    "print('resutls_counter', resutls_counter)"
   ]
  },
  {
   "cell_type": "code",
   "execution_count": null,
   "metadata": {},
   "outputs": [],
   "source": [
    "from wordcloud import WordCloud\n",
    "coef_max_abs = max([ np.abs(x) for x in word_to_coef.values()])\n",
    "for del_w in ['plasmid', 'pulse', 'peptide', 'wound', 'therapeutic', 'live']:\n",
    "    if del_w in word_to_freq:\n",
    "        del word_to_freq[del_w]\n",
    "import matplotlib.pyplot as plt\n",
    "import matplotlib\n",
    "import seaborn as sns\n",
    "plt.rcParams['figure.dpi'] = 300\n",
    "plt.rcParams['savefig.dpi'] = 300\n",
    "sns.set(font_scale=1.4)  \n",
    "my_colormap = plt.cm.get_cmap('RdBu')\n",
    "\n",
    "def my_color_func(word=None, font_size=None, position=None, orientation=None, font_path=None, random_state=None):\n",
    "    coef = word_to_coef[word]\n",
    "    r, g, b, _ = np.maximum(0, 255 * np.array( my_colormap(\n",
    "            coef/ (0.35 * coef_max_abs) + 0.5\n",
    "            )))\n",
    "    return \"rgb({:.0f}, {:.0f}, {:.0f})\".format(r, g, b)\n",
    "\n",
    "wordcloud = WordCloud(\n",
    "    scale = 10, \n",
    "    background_color=\"white\",\n",
    "    color_func = my_color_func, \n",
    "    ) \n",
    "wordcloud.generate_from_frequencies(word_to_freq)\n",
    "plt.figure( figsize=(8,4), ) \n",
    "plt.imshow(wordcloud, interpolation=\"bilinear\")\n",
    "plt.axis(\"off\")\n",
    "\n",
    "cbar = plt.colorbar(matplotlib.cm.ScalarMappable(norm=matplotlib.colors.Normalize(vmin=-1, vmax=1), cmap=my_colormap), \n",
    "                    fraction=0.046, pad=0.04, ticks=[-1, 1], orientation='horizontal')\n",
    "cbar.ax.set_xticklabels(['negative correlation', 'positive correlation'])  # vertically oriented colorbar\n",
    "plt.show()\n",
    "print('Hype word correlation with net income')"
   ]
  }
 ],
 "metadata": {
  "interpreter": {
   "hash": "53a714998b4cda886d88c1f35ca09ebc6db63d3c7248d837ab3cd117369573cd"
  },
  "kernelspec": {
   "display_name": "Python 3.6.13 64-bit ('pytorch_p36': conda)",
   "name": "python3"
  },
  "language_info": {
   "codemirror_mode": {
    "name": "ipython",
    "version": 3
   },
   "file_extension": ".py",
   "mimetype": "text/x-python",
   "name": "python",
   "nbconvert_exporter": "python",
   "pygments_lexer": "ipython3",
   "version": "3.6.13"
  },
  "orig_nbformat": 4
 },
 "nbformat": 4,
 "nbformat_minor": 2
}
